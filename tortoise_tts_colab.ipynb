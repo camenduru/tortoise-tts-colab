{
    "nbformat": 4,
    "nbformat_minor": 0,
    "metadata": {
      "colab": {
        "provenance": [],
        "gpuType": "T4"
      },
      "kernelspec": {
        "name": "python3",
        "display_name": "Python 3"
      },
      "language_info": {
        "name": "python"
      },
      "accelerator": "GPU"
    },
    "cells": [
      {
        "cell_type": "markdown",
        "metadata": {
          "id": "view-in-github"
        },
        "source": [
          "[![Open In Colab](https://colab.research.google.com/assets/colab-badge.svg)](https://colab.research.google.com/github/camenduru/tortoise-tts-colab/blob/main/tortoise_tts_colab.ipynb)"
        ]
      },
      {
        "cell_type": "code",
        "execution_count": null,
        "metadata": {
          "id": "CezP9y36zeQ3"
        },
        "outputs": [],
        "source": [
          "%cd /content\n",
          "!git clone -b dev https://github.com/camenduru/tortoise-hf\n",
          "%cd /content/tortoise-hf\n",
          "!git clone -b v1.0 https://github.com/camenduru/tortoise-tts\n",
          "\n",
          "!pip install gradio scipy -U\n",
          "%cd /content/tortoise-hf/tortoise-tts\n",
          "!pip install transformers==4.19.0\n",
          "!pip install -r requirements.txt\n",
          "!python setup.py install\n",
          "\n",
          "%cd /content/tortoise-hf\n",
          "!python app.py"
        ]
      }
    ]
  }
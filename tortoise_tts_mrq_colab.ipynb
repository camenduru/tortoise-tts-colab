{
   "cells": [
      {
         "cell_type": "markdown",
         "metadata": {
            "id": "view-in-github"
         },
         "source": [
            "[![Open In Colab](https://colab.research.google.com/assets/colab-badge.svg)](https://colab.research.google.com/github/camenduru/tortoise-tts-colab/blob/main/tortoise_tts_mrq_colab.ipynb)"
         ]
      },
      {
         "cell_type": "code",
         "execution_count": null,
         "metadata": {
            "id": "FtsMKKfH18iM"
         },
         "outputs": [],
         "source": [
            "!apt install python3.8-venv\n",
            "!git clone https://git.ecker.tech/camenduru/ai-voice-cloning\n",
            "%cd /content/ai-voice-cloning\n",
            "!./setup-cuda.sh\n",
            "\n",
            "%cd /content/ai-voice-cloning/\n",
            "!./start.sh --share"
         ]
      }
   ],
   "metadata": {
      "accelerator": "GPU",
      "colab": {
         "private_outputs": true,
         "provenance": []
      },
      "gpuClass": "standard",
      "kernelspec": {
         "display_name": "Python 3",
         "name": "python3"
      },
      "language_info": {
         "name": "python"
      }
   },
   "nbformat": 4,
   "nbformat_minor": 0
}
